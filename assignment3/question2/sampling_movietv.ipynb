{
 "cells": [
  {
   "cell_type": "markdown",
   "metadata": {},
   "source": [
    "## Sampling large Datasets\n",
    "In data processing, a great deal of computing involves analysing large amounts of text mixed with numerical data.  This is what Spark is particularly suited for. Sampling is an essential pre-processing for machine leanring or related issue for \n",
    "\n",
    "### Amazon dataset\n",
    "The file Amazon_xx.inter comprising the ratings of users over the items.\n",
    "Each record/line in the file has the following fields: user_id, item_id, rating and timestamp.\n",
    "\n",
    "* user_id: the id of the users and its type is token. \n",
    "* item_id: the id of the items and its type is token.\n",
    "* rating: the rating of the users over the item, and its type is float.\n",
    "* timestamp: the UNIX time of the interaction, and its type is float.\n",
    "\n",
    "The file Amazon_xx.item comprising the attributes of the items.\n",
    "Each record/line in the file has the following fields: item_id, title, price, sales_type, sales_rank, brand, categories\n",
    " \n",
    "* item_id: the id of the item and its type is token.\n",
    "* title: the title of the item, and its type is token.\n",
    "* price: the price of the item, and its type is float.\n",
    "* sales_type: the type sales rank in, and its type is token. \n",
    "* sales_rank: sales rank, and its type is float.\n",
    "* brand: the brand name of the item, and its type is token.\n",
    "* categories: the categories of the item, and its type is token_seq."
   ]
  },
  {
   "cell_type": "markdown",
   "metadata": {},
   "source": []
  },
  {
   "cell_type": "code",
   "execution_count": 5,
   "metadata": {},
   "outputs": [],
   "source": [
    "from pyspark.sql import SparkSession\n",
    "\n",
    "spark = SparkSession.builder.appName(\"Amazon Sampling\").getOrCreate()"
   ]
  },
  {
   "cell_type": "code",
   "execution_count": 23,
   "metadata": {},
   "outputs": [
    {
     "name": "stdout",
     "output_type": "stream",
     "text": [
      "+--------------+-------------+------------+---------------+\n",
      "| user_id:token|item_id:token|rating:float|timestamp:float|\n",
      "+--------------+-------------+------------+---------------+\n",
      "|A3478QRKQDOPQ2|   0001527665|         5.0|     1362960000|\n",
      "|A2VHSG6TZHU1OB|   0001527665|         5.0|     1361145600|\n",
      "|A23EJWOW1TLENE|   0001527665|         5.0|     1358380800|\n",
      "|A1KM9FNEJ8Q171|   0001527665|         5.0|     1357776000|\n",
      "|A38LY2SSHVHRYB|   0001527665|         4.0|     1356480000|\n",
      "+--------------+-------------+------------+---------------+\n",
      "\n",
      "+-------------+--------------------+--------------------+-----------+----------------+----------------+\n",
      "|item_id:token|         title:token|categories:token_seq|brand:token|sales_type:token|sales_rank:float|\n",
      "+-------------+--------------------+--------------------+-----------+----------------+----------------+\n",
      "|   0000695009|Understanding Sei...|            'Movies'|       null|     Movies & TV|        886503.0|\n",
      "|   0000791156|Spirit Led&mdash;...|            'Movies'|       null|     Movies & TV|        342688.0|\n",
      "|   0000143529|My Fair Pastry (G...|            'Movies'|Alton Brown|     Movies & TV|        370026.0|\n",
      "|   0000143588|Barefoot Contessa...|            'Movies'| Ina Garten|     Movies & TV|        342914.0|\n",
      "|   0000143502|Rise and Swine (G...|            'Movies'|Alton Brown|     Movies & TV|        351684.0|\n",
      "+-------------+--------------------+--------------------+-----------+----------------+----------------+\n",
      "\n"
     ]
    }
   ],
   "source": [
    "#Run the code in this box, and then continue running the boxes (in order) until the end of lesson.\n",
    "# import pyspark\n",
    "# conf = pyspark.SparkConf().setAppName(\"Amazon Sampling\")\n",
    "\n",
    "# try:\n",
    "#     sc = pyspark.SparkContext(conf=conf)\n",
    "# except:\n",
    "#     print(\"Warning : a SparkContext already exists.\")\n",
    "\n",
    "# readin the top5 samples to get a glimpse of data\n",
    "movietv5_inter_path = \"./Amazon/5Lines/Amazon_Movies_and_TV.inter\"\n",
    "movietv5_item_path = \"./Amazon/5Lines/Amazon_Movies_and_TV.item\"\n",
    "\n",
    "# read from file into dataframe\n",
    "df_movietv5_inter= spark.read.option(\"delimiter\",'\\t').option(\"header\", True).csv(movietv5_inter_path)\n",
    "df_movietv5_inter.show()\n",
    "\n",
    "df_movietv5_item= spark.read.option(\"delimiter\",'\\t').option(\"header\", True).csv(movietv5_item_path)\n",
    "df_movietv5_item.show()"
   ]
  },
  {
   "cell_type": "markdown",
   "metadata": {},
   "source": [
    "\n",
    "## General Data Analysis\n",
    "* uniqueness\n",
    "* completness \n",
    "* lingage, concentration and sparsity"
   ]
  },
  {
   "cell_type": "code",
   "execution_count": 11,
   "metadata": {},
   "outputs": [
    {
     "name": "stdout",
     "output_type": "stream",
     "text": [
      "num of df_movietv_inter= 8765568 \n",
      "\n",
      "num of df_movietv_item= 181839\n",
      "Row(item_id:token='0000695009', title:token='Understanding Seizures and Epilepsy', categories:token_seq=\"'Movies'\", brand:token=None, sales_type:token='Movies & TV', sales_rank:float='886503.0')\n",
      "num of filtered movietv iterm 181839\n"
     ]
    }
   ],
   "source": [
    "movietv_inter_path = \"./Amazon/Amazon_Movies_and_TV/Amazon_Movies_and_TV.inter\"\n",
    "movietv_item_path = \"./Amazon/Amazon_Movies_and_TV/Amazon_Movies_and_TV.item\"\n",
    "# read from file into dataframe\n",
    "df_movietv_inter= spark.read.option(\"delimiter\",'\\t').option(\"header\", True).csv(movietv_inter_path)\n",
    "\n",
    "df_movietv_item= spark.read.option(\"delimiter\",'\\t').option(\"header\", True).csv(movietv_item_path)\n",
    "\n",
    "print(\"num of df_movietv_inter=\",df_movietv_inter.count(),'\\n')\n",
    "print('num of df_movietv_item=',df_movietv_item.count())\n",
    "\n",
    "def is_author_categories_defined(record):\n",
    "    # print(record)\n",
    "    return \"title:token\" and \"categories:token_seq\" in record\n",
    "\n",
    "df_movietv_item_filt = df_movietv_item.rdd.filter(is_author_categories_defined)\n",
    "print(df_movietv_item_filt.first())\n",
    "print(\"num of filtered movietv iterm\", df_movietv_item_filt.count())"
   ]
  },
  {
   "cell_type": "markdown",
   "metadata": {},
   "source": [
    "### Uniquenss\n",
    "* no duplicated item_id\n",
    "* no duplicated interaction from same user_id on same item_id"
   ]
  },
  {
   "cell_type": "code",
   "execution_count": 28,
   "metadata": {},
   "outputs": [
    {
     "name": "stdout",
     "output_type": "stream",
     "text": [
      "('0000695009', Row(item_id:token='0000695009', title:token='Understanding Seizures and Epilepsy', categories:token_seq=\"'Movies'\", brand:token=None, sales_type:token='Movies & TV', sales_rank:float='886503.0'))\n"
     ]
    },
    {
     "name": "stderr",
     "output_type": "stream",
     "text": [
      "                                                                                \r"
     ]
    },
    {
     "name": "stdout",
     "output_type": "stream",
     "text": [
      "Duplicate item by ID: 0\n"
     ]
    }
   ],
   "source": [
    "# extract item_ids\n",
    "movietv_item_ids = df_movietv_item_filt.keyBy(lambda item: item['item_id:token'])\n",
    "\n",
    "print(movietv_item_ids.first())\n",
    "# check if any dulicpated \n",
    "print(\"Duplicate item by ID:\", movietv_item_ids.count() - movietv_item_ids.distinct().count())"
   ]
  },
  {
   "cell_type": "code",
   "execution_count": 21,
   "metadata": {},
   "outputs": [
    {
     "name": "stdout",
     "output_type": "stream",
     "text": [
      "Row(user_id:token='A3478QRKQDOPQ2', item_id:token='0001527665', rating:float='5.0', timestamp:float='1362960000', comb_key='A3478QRKQDOPQ20001527665')\n"
     ]
    },
    {
     "name": "stderr",
     "output_type": "stream",
     "text": [
      "[Stage 70:>                                                       (0 + 10) / 10]\r"
     ]
    },
    {
     "name": "stdout",
     "output_type": "stream",
     "text": [
      "Duplicate interaction by combined(user, item): 258719\n"
     ]
    },
    {
     "name": "stderr",
     "output_type": "stream",
     "text": [
      "                                                                                \r"
     ]
    }
   ],
   "source": [
    "# combine user and item into one key for duplicate checking\n",
    "from pyspark.sql.functions import concat\n",
    "df_movietv_inter = df_movietv_inter.withColumn(\"comb_key\", concat(df_movietv_inter[\"user_id:token\"],df_movietv_inter[\"item_id:token\"]))\n",
    "\n",
    "print(df_movietv_inter.first())\n",
    "movietv_inter_comb_keys = df_movietv_inter.rdd.keyBy(lambda inter: inter['comb_key'])\n",
    "\n",
    "print(\"Duplicate interaction by combined(user, item):\", movietv_inter_comb_keys.count() - movietv_inter_comb_keys.distinct().count())\n"
   ]
  },
  {
   "cell_type": "markdown",
   "metadata": {},
   "source": [
    "### Check the completeness \n",
    "completeness attributes in item data "
   ]
  },
  {
   "cell_type": "code",
   "execution_count": 31,
   "metadata": {},
   "outputs": [
    {
     "name": "stdout",
     "output_type": "stream",
     "text": [
      "first element of adelaide_meta is \n",
      " Row(item_id:token='0000695009', title:token='Understanding Seizures and Epilepsy', categories:token_seq=\"'Movies'\", brand:token=None, sales_type:token='Movies & TV', sales_rank:float='886503.0')\n"
     ]
    },
    {
     "ename": "AttributeError",
     "evalue": "keys",
     "output_type": "error",
     "traceback": [
      "\u001b[0;31m---------------------------------------------------------------------------\u001b[0m",
      "\u001b[0;31mValueError\u001b[0m                                Traceback (most recent call last)",
      "File \u001b[0;32m~/miniconda3/envs/CP631/lib/python3.12/site-packages/pyspark/sql/types.py:2178\u001b[0m, in \u001b[0;36mRow.__getattr__\u001b[0;34m(self, item)\u001b[0m\n\u001b[1;32m   2175\u001b[0m \u001b[38;5;28;01mtry\u001b[39;00m:\n\u001b[1;32m   2176\u001b[0m     \u001b[38;5;66;03m# it will be slow when it has many fields,\u001b[39;00m\n\u001b[1;32m   2177\u001b[0m     \u001b[38;5;66;03m# but this will not be used in normal cases\u001b[39;00m\n\u001b[0;32m-> 2178\u001b[0m     idx \u001b[38;5;241m=\u001b[39m \u001b[38;5;28;43mself\u001b[39;49m\u001b[38;5;241;43m.\u001b[39;49m\u001b[43m__fields__\u001b[49m\u001b[38;5;241;43m.\u001b[39;49m\u001b[43mindex\u001b[49m\u001b[43m(\u001b[49m\u001b[43mitem\u001b[49m\u001b[43m)\u001b[49m\n\u001b[1;32m   2179\u001b[0m     \u001b[38;5;28;01mreturn\u001b[39;00m \u001b[38;5;28mself\u001b[39m[idx]\n",
      "\u001b[0;31mValueError\u001b[0m: 'keys' is not in list",
      "\nDuring handling of the above exception, another exception occurred:\n",
      "\u001b[0;31mAttributeError\u001b[0m                            Traceback (most recent call last)",
      "Cell \u001b[0;32mIn[31], line 4\u001b[0m\n\u001b[1;32m      2\u001b[0m \u001b[38;5;66;03m# print(\"type of item_meta is\",type(item_meta.first()),'\\n')\u001b[39;00m\n\u001b[1;32m      3\u001b[0m \u001b[38;5;28mprint\u001b[39m(\u001b[38;5;124m\"\u001b[39m\u001b[38;5;124mfirst element of adelaide_meta is \u001b[39m\u001b[38;5;130;01m\\n\u001b[39;00m\u001b[38;5;124m\"\u001b[39m,item_meta\u001b[38;5;241m.\u001b[39mfirst())\n\u001b[0;32m----> 4\u001b[0m \u001b[38;5;28mprint\u001b[39m(\u001b[38;5;124m\"\u001b[39m\u001b[38;5;124mkeys of item_meta\u001b[39m\u001b[38;5;124m\"\u001b[39m,\u001b[43mitem_meta\u001b[49m\u001b[38;5;241;43m.\u001b[39;49m\u001b[43mfirst\u001b[49m\u001b[43m(\u001b[49m\u001b[43m)\u001b[49m\u001b[38;5;241;43m.\u001b[39;49m\u001b[43mkeys\u001b[49m(),\u001b[38;5;124m'\u001b[39m\u001b[38;5;130;01m\\n\u001b[39;00m\u001b[38;5;124m'\u001b[39m)\n\u001b[1;32m      6\u001b[0m item_keys \u001b[38;5;241m=\u001b[39m item_meta\u001b[38;5;241m.\u001b[39mflatMap(\u001b[38;5;28;01mlambda\u001b[39;00m rec: rec\u001b[38;5;241m.\u001b[39mkeys())\n\u001b[1;32m      8\u001b[0m \u001b[38;5;66;03m#frequency of each key.\u001b[39;00m\n",
      "File \u001b[0;32m~/miniconda3/envs/CP631/lib/python3.12/site-packages/pyspark/sql/types.py:2183\u001b[0m, in \u001b[0;36mRow.__getattr__\u001b[0;34m(self, item)\u001b[0m\n\u001b[1;32m   2181\u001b[0m     \u001b[38;5;28;01mraise\u001b[39;00m \u001b[38;5;167;01mAttributeError\u001b[39;00m(item)\n\u001b[1;32m   2182\u001b[0m \u001b[38;5;28;01mexcept\u001b[39;00m \u001b[38;5;167;01mValueError\u001b[39;00m:\n\u001b[0;32m-> 2183\u001b[0m     \u001b[38;5;28;01mraise\u001b[39;00m \u001b[38;5;167;01mAttributeError\u001b[39;00m(item)\n",
      "\u001b[0;31mAttributeError\u001b[0m: keys"
     ]
    }
   ],
   "source": [
    "item_meta=movietv_item_ids.map(lambda a:a[1])\n",
    "# print(\"type of item_meta is\",type(item_meta.first()),'\\n')\n",
    "print(\"first element of adelaide_meta is \\n\",item_meta.first())\n",
    "print(\"keys of item_meta\",item_meta.first().keys(),'\\n')\n",
    "\n",
    "item_keys = item_meta.flatMap(lambda rec: rec.keys())\n",
    "\n",
    "#frequency of each key.\n",
    "item_key_value = item_keys.map(lambda key: (key, 1))\n",
    "item_key_value.first()\n",
    "\n",
    "from operator import add\n",
    "adelaide_agg = item_key_value.reduceByKey(add)\n",
    "adelaide_agg.collectAsMap()"
   ]
  },
  {
   "cell_type": "markdown",
   "metadata": {},
   "source": [
    "## Data Characteristic Analysis\n",
    "* skewness of items\n",
    "  * category\n",
    "  * brand \n",
    "* sparsity of interactions\n",
    "  * too concentrated rating for few item\n",
    "  * too concentrated rating from few user"
   ]
  },
  {
   "cell_type": "code",
   "execution_count": null,
   "metadata": {},
   "outputs": [],
   "source": [
    "# list out the category enumerations"
   ]
  },
  {
   "cell_type": "code",
   "execution_count": null,
   "metadata": {},
   "outputs": [],
   "source": [
    "# list top brand"
   ]
  },
  {
   "cell_type": "markdown",
   "metadata": {},
   "source": [
    "Next, we analyze the charateristics of interactions between item and user"
   ]
  },
  {
   "cell_type": "code",
   "execution_count": null,
   "metadata": {},
   "outputs": [],
   "source": [
    "# make timestamp more human-readible \n",
    "print(df_movietv5_inter[\"timestamp:float\"])\n",
    "\n",
    "from pyspark.sql.functions import toDate\n",
    "print(toDate())\n",
    "# df_movietv5_inter.withColumn('timestamp:date', df_movietv5_inter[\"timestamp:float\"].cast(DateType())).show()\n",
    "\n"
   ]
  },
  {
   "cell_type": "markdown",
   "metadata": {},
   "source": [
    "## Final: filtering and multilevel of sampling\n",
    "According to the analysis above, the overal quality of item is quite good, \n",
    "* filter duplicated interaction found above\n",
    "* "
   ]
  },
  {
   "cell_type": "code",
   "execution_count": 58,
   "metadata": {},
   "outputs": [
    {
     "name": "stdout",
     "output_type": "stream",
     "text": [
      "[59, 73, 78, 83, 58, 48, 49, 47, 84, 76, 74, None, 51, 43, 67, 88, 57, 62, 65, 61, 90, 69, 46, 44, 56, 77, 45, 80, 50, 82, 81, 70, 41, 60, 85, 33, 55, 68, 52, 72, 40, 75, 66, 71, 39, 32, 64, 38, 93, 94, 29, 87, 54, 89, 37, 79, 92, 86, 30, 36, 26, 27, 42, 63, 34, 53, 101, 35, 91, 31]\n",
      "[91, 222, 77, 35, 97, 21, 11, 106, 26, 22, 70, 478, 86, 318, 130, 38, 25, 85, 170, 59, 10, 48, 97, 96, 54, 88, 58, 146, 11, 111, 75, 58, 13, 48, 15, 7, 84, 97, 97, 48, 61, 85, 108, 86, 12, 2, 39, 50, 8, 11, 11, 5, 20, 22, 12, 37, 2, 7, 9, 7, 13, 1, 9, 16, 10, 3, 1, 7, 1, 1]\n",
      "[73 78 83 58 48 49 47 84 76 74 None 51 43 67 88 57 62 65 61 90 69 46 44 56\n",
      " 77 45 80 50 82 81 70 41 60 85 33 55 68 52 72 40 75 66 71 39 32 64 38 93\n",
      " 94 29 87 54 89 37 79 92 86 30 36 26 27 42 63 34 53 101 35 91 31]\n",
      "[222  77  35  97  21  11 106  26  22  70 478  86 318 130  38  25  85 170\n",
      "  59  10  48  97  96  54  88  58 146  11 111  75  58  13  48  15   7  84\n",
      "  97  97  48  61  85 108  86  12   2  39  50   8  11  11   5  20  22  12\n",
      "  37   2   7   9   7  13   1   9  16  10   3   1   7   1   1]\n"
     ]
    },
    {
     "name": "stderr",
     "output_type": "stream",
     "text": [
      "/var/folders/bj/spr6xdy950jf8sj2svjhs0vh0000gn/T/ipykernel_8561/3192641303.py:17: UserWarning: linestyle is redundantly defined by the 'linestyle' keyword argument and the fmt string \".b-\" (-> linestyle='-'). The keyword argument will take precedence.\n",
      "  plt.plot(x,y,'.b-',linestyle='None')\n"
     ]
    },
    {
     "data": {
      "image/png": "[encoded data removed]",
      "text/plain": [
       "<Figure size 640x480 with 1 Axes>"
      ]
     },
     "metadata": {},
     "output_type": "display_data"
    }
   ],
   "source": [
    "# need to add plot\n",
    "import matplotlib\n",
    "import matplotlib.pyplot as plt\n",
    "import numpy\n",
    "\n",
    "age=list(age_frequency.keys())\n",
    "frequency=list(age_frequency.values())\n",
    "print(age)\n",
    "print(frequency)\n",
    "x=numpy.array(age[1:]) # not taking the \"None\" key by starting at position 1\n",
    "y=numpy.array(frequency[1:]) # not taking the \"None\" frequency by starting at position 1\n",
    "print(x)\n",
    "print(y)\n",
    "#fig,ax=plt.subplots()\n",
    "#ax.plot(x,y)\n",
    "#plt.scatter(x,y)\n",
    "plt.plot(x,y,'.b-',linestyle='None')\n",
    "plt.show()\n",
    "#run this box again if figure does not appear"
   ]
  }
 ],
 "metadata": {
  "kernelspec": {
   "display_name": "Python 3",
   "language": "python",
   "name": "python3"
  },
  "language_info": {
   "codemirror_mode": {
    "name": "ipython",
    "version": 3
   },
   "file_extension": ".py",
   "mimetype": "text/x-python",
   "name": "python",
   "nbconvert_exporter": "python",
   "pygments_lexer": "ipython3",
   "version": "3.12.2"
  }
 },
 "nbformat": 4,
 "nbformat_minor": 2
}
