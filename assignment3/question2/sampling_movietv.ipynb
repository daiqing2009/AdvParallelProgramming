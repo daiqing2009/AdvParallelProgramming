{
 "cells": [
  {
   "cell_type": "markdown",
   "metadata": {},
   "source": [
    "## Sampling large Datasets\n",
    "In data processing, a great deal of computing involves analysing large amounts of text mixed with numerical data.  This is what Spark is particularly suited for. Sampling is an essential pre-processing for machine leanring for proof of concept\n",
    "\n",
    "### Amazon dataset\n",
    "The file Amazon_xx.inter comprising the ratings of users over the items.\n",
    "Each record/line in the file has the following fields: user_id, item_id, rating and timestamp.\n",
    "\n",
    "* user_id: the id of the users and its type is token. \n",
    "* item_id: the id of the items and its type is token.\n",
    "* rating: the rating of the users over the item, and its type is float.\n",
    "* timestamp: the UNIX time of the interaction, and its type is float.\n",
    "\n",
    "The file Amazon_xx.item comprising the attributes of the items.\n",
    "Each record/line in the file has the following fields: item_id, title, price, sales_type, sales_rank, brand, categories\n",
    " \n",
    "* item_id: the id of the item and its type is token.\n",
    "* title: the title of the item, and its type is token.\n",
    "* price: the price of the item, and its type is float.\n",
    "* sales_type: the type sales rank in, and its type is token. \n",
    "* sales_rank: sales rank, and its type is float.\n",
    "* brand: the brand name of the item, and its type is token.\n",
    "* categories: the categories of the item, and its type is token_seq."
   ]
  },
  {
   "cell_type": "markdown",
   "metadata": {},
   "source": []
  },
  {
   "cell_type": "code",
   "execution_count": 2,
   "metadata": {},
   "outputs": [
    {
     "name": "stderr",
     "output_type": "stream",
     "text": [
      "Setting default log level to \"WARN\".\n",
      "To adjust logging level use sc.setLogLevel(newLevel). For SparkR, use setLogLevel(newLevel).\n",
      "24/04/05 20:14:41 WARN NativeCodeLoader: Unable to load native-hadoop library for your platform... using builtin-java classes where applicable\n"
     ]
    }
   ],
   "source": [
    "from pyspark.sql import SparkSession\n",
    "\n",
    "spark = SparkSession.builder.appName(\"Amazon Sampling\").getOrCreate()"
   ]
  },
  {
   "cell_type": "code",
   "execution_count": 3,
   "metadata": {},
   "outputs": [
    {
     "name": "stderr",
     "output_type": "stream",
     "text": [
      "                                                                                \r"
     ]
    },
    {
     "name": "stdout",
     "output_type": "stream",
     "text": [
      "+--------------+-------------+------------+---------------+\n",
      "| user_id:token|item_id:token|rating:float|timestamp:float|\n",
      "+--------------+-------------+------------+---------------+\n",
      "|A3478QRKQDOPQ2|   0001527665|         5.0|     1362960000|\n",
      "|A2VHSG6TZHU1OB|   0001527665|         5.0|     1361145600|\n",
      "|A23EJWOW1TLENE|   0001527665|         5.0|     1358380800|\n",
      "|A1KM9FNEJ8Q171|   0001527665|         5.0|     1357776000|\n",
      "|A38LY2SSHVHRYB|   0001527665|         4.0|     1356480000|\n",
      "+--------------+-------------+------------+---------------+\n",
      "\n",
      "+-------------+--------------------+--------------------+-----------+----------------+----------------+\n",
      "|item_id:token|         title:token|categories:token_seq|brand:token|sales_type:token|sales_rank:float|\n",
      "+-------------+--------------------+--------------------+-----------+----------------+----------------+\n",
      "|   0000695009|Understanding Sei...|            'Movies'|       null|     Movies & TV|        886503.0|\n",
      "|   0000791156|Spirit Led&mdash;...|            'Movies'|       null|     Movies & TV|        342688.0|\n",
      "|   0000143529|My Fair Pastry (G...|            'Movies'|Alton Brown|     Movies & TV|        370026.0|\n",
      "|   0000143588|Barefoot Contessa...|            'Movies'| Ina Garten|     Movies & TV|        342914.0|\n",
      "|   0000143502|Rise and Swine (G...|            'Movies'|Alton Brown|     Movies & TV|        351684.0|\n",
      "+-------------+--------------------+--------------------+-----------+----------------+----------------+\n",
      "\n"
     ]
    }
   ],
   "source": [
    "#Run the code in this box, and then continue running the boxes (in order) until the end of lesson.\n",
    "# import pyspark\n",
    "# conf = pyspark.SparkConf().setAppName(\"Amazon Sampling\")\n",
    "\n",
    "# try:\n",
    "#     sc = pyspark.SparkContext(conf=conf)\n",
    "# except:\n",
    "#     print(\"Warning : a SparkContext already exists.\")\n",
    "\n",
    "# readin the top5 samples to get a glimpse of data\n",
    "movietv5_inter_path = \"./Amazon/5Lines/Amazon_Movies_and_TV.inter\"\n",
    "movietv5_item_path = \"./Amazon/5Lines/Amazon_Movies_and_TV.item\"\n",
    "\n",
    "# read from file into dataframe\n",
    "df_movietv5_inter= spark.read.option(\"delimiter\",'\\t').option(\"header\", True).csv(movietv5_inter_path)\n",
    "df_movietv5_inter.show()\n",
    "\n",
    "df_movietv5_item= spark.read.option(\"delimiter\",'\\t').option(\"header\", True).csv(movietv5_item_path)\n",
    "df_movietv5_item.show()"
   ]
  },
  {
   "cell_type": "markdown",
   "metadata": {},
   "source": [
    "\n",
    "## Data Analysis\n",
    "* uniqueness\n",
    "* completness \n",
    "* lingage, concentration and sparsity"
   ]
  },
  {
   "cell_type": "code",
   "execution_count": 29,
   "metadata": {},
   "outputs": [
    {
     "name": "stdout",
     "output_type": "stream",
     "text": [
      "num of df_movietv_item= 181839\n",
      "+-------------+-----------+--------------------+-----------+----------------+----------------+\n",
      "|item_id:token|title:token|categories:token_seq|brand:token|sales_type:token|sales_rank:float|\n",
      "+-------------+-----------+--------------------+-----------+----------------+----------------+\n",
      "|       181839|     181781|              177658|     121325|          180003|          179923|\n",
      "+-------------+-----------+--------------------+-----------+----------------+----------------+\n",
      "\n"
     ]
    },
    {
     "data": {
      "text/plain": [
       "181839"
      ]
     },
     "execution_count": 29,
     "metadata": {},
     "output_type": "execute_result"
    }
   ],
   "source": [
    "movietv_item_path = \"./Amazon/Amazon_Movies_and_TV/Amazon_Movies_and_TV.item\"\n",
    "# read from file into dataframe\n",
    "df_movietv_item= spark.read.option(\"delimiter\",'\\t').option(\"header\", True).csv(movietv_item_path)\n",
    "\n",
    "print('num of df_movietv_item=',df_movietv_item.count())\n",
    "\n",
    "# check the uniqueness of key, i.e. item_id\n",
    "print(\"Number of disintict item_id:\", df_movietv_item.select('item_id:token').distinct().count())\n",
    "\n",
    "# check the completeness of each column\n",
    "from pyspark.sql.functions import col, when, count\n",
    "df_movietv_item.select([count(when(col(c).isNotNull() , c)).alias(c) for c in df_movietv_item.columns]).show()"
   ]
  },
  {
   "cell_type": "code",
   "execution_count": 27,
   "metadata": {},
   "outputs": [
    {
     "name": "stdout",
     "output_type": "stream",
     "text": [
      "+-------------+-----------+--------------------+-----------+----------------+----------------+\n",
      "|item_id:token|title:token|categories:token_seq|brand:token|sales_type:token|sales_rank:float|\n",
      "+-------------+-----------+--------------------+-----------+----------------+----------------+\n",
      "|   B00009KM13|       null|            'Movies'|       null|     Movies & TV|        574484.0|\n",
      "|   B00095L686|       null|            'Movies'|       null|     Movies & TV|        944715.0|\n",
      "|   B0009UZ4U2|       null|            'Movies'|       null|     Movies & TV|        742364.0|\n",
      "|   B000M2DMM4|       null|            'Movies'|       null|     Movies & TV|        318541.0|\n",
      "|   B000TJIUL8|       null|            'Movies'|       null|     Movies & TV|        406440.0|\n",
      "+-------------+-----------+--------------------+-----------+----------------+----------------+\n",
      "only showing top 5 rows\n",
      "\n",
      "+-------------+--------------------+--------------------+--------------+----------------+----------------+\n",
      "|item_id:token|         title:token|categories:token_seq|   brand:token|sales_type:token|sales_rank:float|\n",
      "+-------------+--------------------+--------------------+--------------+----------------+----------------+\n",
      "|   0253030935|Sugarplum Dreams:...|                null|          null|     Movies & TV|        478287.0|\n",
      "|   0764820516|A Child's First C...|                null|          null|     Movies & TV|        185854.0|\n",
      "|   0767003772|Grand Tour: Legen...|                null|          null|     Movies & TV|        490905.0|\n",
      "|   076700941X|Upstairs Downstai...|                null|Gordon Jackson|     Movies & TV|        286451.0|\n",
      "|   0767011929|Biography - Donna...|                null|          null|     Movies & TV|        606959.0|\n",
      "+-------------+--------------------+--------------------+--------------+----------------+----------------+\n",
      "only showing top 5 rows\n",
      "\n",
      "+-------------+--------------------+--------------------+------------+----------------+----------------+\n",
      "|item_id:token|         title:token|categories:token_seq| brand:token|sales_type:token|sales_rank:float|\n",
      "+-------------+--------------------+--------------------+------------+----------------+----------------+\n",
      "|   1885239092|Your Personal Sur...|'Genre for Featur...|        null|            null|            null|\n",
      "|   5553892538|Classic Dick Trac...|            'Movies'|        null|            null|            null|\n",
      "|   5553615429|      The Unborn VHS|'Studio Specials'...|Brooke Adams|            null|            null|\n",
      "|   5558990619|Song of the Gring...|'Genre for Featur...|  Tex Ritter|            null|            null|\n",
      "|   6302365880|School...Who Need...|'Genre for Featur...|        null|            null|            null|\n",
      "+-------------+--------------------+--------------------+------------+----------------+----------------+\n",
      "only showing top 5 rows\n",
      "\n",
      "+-------------+--------------------+--------------------+--------------------+----------------+----------------+\n",
      "|item_id:token|         title:token|categories:token_seq|         brand:token|sales_type:token|sales_rank:float|\n",
      "+-------------+--------------------+--------------------+--------------------+----------------+----------------+\n",
      "|   1885239092|Your Personal Sur...|'Genre for Featur...|                null|            null|            null|\n",
      "|   5553892538|Classic Dick Trac...|            'Movies'|                null|            null|            null|\n",
      "|   5553615429|      The Unborn VHS|'Studio Specials'...|        Brooke Adams|            null|            null|\n",
      "|   5558990619|Song of the Gring...|'Genre for Featur...|          Tex Ritter|            null|            null|\n",
      "|   6301122992|Isaac Asimov's Ro...|'Genre for Featur...|Eastman Kodak Com...|    Toys & Games|            null|\n",
      "+-------------+--------------------+--------------------+--------------------+----------------+----------------+\n",
      "only showing top 5 rows\n",
      "\n"
     ]
    }
   ],
   "source": [
    "# show null valus samples \n",
    "from pyspark.sql.functions import isnull\n",
    "\n",
    "df_movietv_item.filter(col(\"title:token\").isNull() ).show(5)\n",
    "\n",
    "df_movietv_item.filter(col(\"categories:token_seq\").isNull()).show(5)\n",
    "\n",
    "df_movietv_item.filter(col(\"sales_type:token\").isNull()).show(5)\n",
    "\n",
    "df_movietv_item.filter(col(\"sales_rank:float\").isNull()).show(5)"
   ]
  },
  {
   "cell_type": "code",
   "execution_count": 39,
   "metadata": {},
   "outputs": [
    {
     "name": "stdout",
     "output_type": "stream",
     "text": [
      "num of df_movietv_inter= 8765568 \n",
      "\n"
     ]
    },
    {
     "name": "stderr",
     "output_type": "stream",
     "text": [
      "                                                                                \r"
     ]
    },
    {
     "name": "stdout",
     "output_type": "stream",
     "text": [
      "df_movietv_inter_dist: 8506849\n"
     ]
    },
    {
     "name": "stderr",
     "output_type": "stream",
     "text": [
      "                                                                                \r"
     ]
    },
    {
     "name": "stdout",
     "output_type": "stream",
     "text": [
      "duplicate interaction num: 258719\n"
     ]
    },
    {
     "name": "stderr",
     "output_type": "stream",
     "text": [
      "[Stage 200:=====>                                                  (1 + 9) / 10]\r"
     ]
    },
    {
     "name": "stdout",
     "output_type": "stream",
     "text": [
      "+-------------+-------------+------------+---------------+\n",
      "|user_id:token|item_id:token|rating:float|timestamp:float|\n",
      "+-------------+-------------+------------+---------------+\n",
      "|      8765568|      8765568|     8765568|        8765568|\n",
      "+-------------+-------------+------------+---------------+\n",
      "\n"
     ]
    },
    {
     "name": "stderr",
     "output_type": "stream",
     "text": [
      "                                                                                \r"
     ]
    }
   ],
   "source": [
    "movietv_inter_path = \"./Amazon/Amazon_Movies_and_TV/Amazon_Movies_and_TV.inter\"\n",
    "# read from file into dataframe\n",
    "df_movietv_inter= spark.read.option(\"delimiter\",'\\t').option(\"header\", True).csv(movietv_inter_path)\n",
    "print(\"num of df_movietv_inter=\",df_movietv_inter.count(),'\\n')\n",
    "\n",
    "# check the uniqueness of user-item pair\n",
    "df_movietv_inter_dist=df_movietv_inter.dropDuplicates([\"user_id:token\",\"item_id:token\"])\n",
    "print(\"df_movietv_inter_dist:\", df_movietv_inter_dist.count())\n",
    "print(\"duplicate interaction num:\",df_movietv_inter.count() - df_movietv_inter_dist.count())\n",
    "\n",
    "# check the completeness of each column\n",
    "from pyspark.sql.functions import col, when, count\n",
    "df_movietv_inter_dist.select([count(when(col(c).isNotNull() , c)).alias(c) for c in df_movietv_inter_dist.columns]).show()"
   ]
  },
  {
   "cell_type": "markdown",
   "metadata": {},
   "source": [
    "### Linkage of item and (user-item) interaction\n",
    "* find least interacted items\n",
    "* find most interacted(hottest) items"
   ]
  },
  {
   "cell_type": "code",
   "execution_count": 41,
   "metadata": {},
   "outputs": [
    {
     "name": "stderr",
     "output_type": "stream",
     "text": [
      "[Stage 218:=========>                                               (1 + 5) / 6]\r"
     ]
    },
    {
     "name": "stdout",
     "output_type": "stream",
     "text": [
      "+-------------+------------------------------------------------------------------------------------+--------------------------------------------------+----------------------------------------------------------+----------------+----------------+\n",
      "|item_id:token|title:token                                                                         |categories:token_seq                              |brand:token                                               |sales_type:token|sales_rank:float|\n",
      "+-------------+------------------------------------------------------------------------------------+--------------------------------------------------+----------------------------------------------------------+----------------+----------------+\n",
      "|B00KOD9842   |The Super Chief The Whole Story [DVD] [2008]                                        |'Genre for Featured Categories'                   |Santa Fe                                                  |Movies & TV     |188262.0        |\n",
      "|B001B48RHM   |THE CHEAP DETECTIVE Deluxe Widescreen Presentation Laserdisc (LD NOT DVD) Peter Falk|'Movies'                                          |null                                                      |Movies & TV     |829440.0        |\n",
      "|B01GWDXLAE   |Jay Jay The Jet Plane - Lessons for All Seasons by Mary Kay Bergman                 |null                                              |null                                                      |null            |null            |\n",
      "|B01EDCE4AW   |The Holiday Tree | NON-USA Format | PAL | Region 4 Import - Australia               |'Genre for Featured Categories'                   |Corey Sevier, Eric Keenleyside, Lacey Chabert Jim Thorburn|Movies & TV     |405680.0        |\n",
      "|B000087F0B   |Globe Trekker:Northern Spain VHS                                                    |'Movies'                                          |null                                                      |Movies & TV     |942076.0        |\n",
      "|B000E6TWG8   |BELLYDANCE &amp; BALANCE THE ART OF SWORD AND SHAMADAN                              |'Genre for Featured Categories', 'Performing Arts'|null                                                      |Movies & TV     |195067.0        |\n",
      "|B000MV9O3Q   |The Corpse Grinders                                                                 |'Fantasy'                                         |Sean Kenney                                               |Movies & TV     |15398.0         |\n",
      "|B000B9E2K4   |Poker Clock                                                                         |'Genre for Featured Categories', 'Documentary'    |null                                                      |Movies & TV     |273002.0        |\n",
      "|B000NEHHC2   |303rd Bombardment Group                                                             |'Movies'                                          |null                                                      |null            |null            |\n",
      "|B001LNOLL4   |SAGA OF THE DRACULAS                                                                |'Genre for Featured Categories', 'Horror'         |Sinister Cinema                                           |Movies & TV     |57315.0         |\n",
      "|B001N0LEK6   |Frankenstein Created Woman                                                          |'Movies'                                          |Peter Cushing                                             |Movies & TV     |522987.0        |\n",
      "+-------------+------------------------------------------------------------------------------------+--------------------------------------------------+----------------------------------------------------------+----------------+----------------+\n",
      "\n"
     ]
    },
    {
     "name": "stderr",
     "output_type": "stream",
     "text": [
      "                                                                                \r"
     ]
    }
   ],
   "source": [
    "# find the item never interacted\n",
    "df_movietv_item.join(df_movietv_inter_dist,df_movietv_item[\"item_id:token\"] ==  df_movietv_inter_dist[\"item_id:token\"],\"leftanti\") \\\n",
    "   .show(truncate=False)"
   ]
  },
  {
   "cell_type": "code",
   "execution_count": null,
   "metadata": {},
   "outputs": [],
   "source": [
    "# find the item few interacted\n",
    "df_inner_join = df_movietv_item.join(df_movietv_inter_dist,df_movietv_item[\"item_id:token\"] ==  df_movietv_inter_dist[\"item_id:token\"],\"inner\")\n",
    "\n",
    "# show the histogram of interaction rate of each item\n"
   ]
  },
  {
   "cell_type": "markdown",
   "metadata": {},
   "source": [
    "## Sampling\n",
    "Stratified sampling based on hotness(interaction rate) of items"
   ]
  },
  {
   "cell_type": "code",
   "execution_count": null,
   "metadata": {},
   "outputs": [],
   "source": [
    "# bining based on the histogram\n",
    "\n",
    "# sampling by bsed on  interaction rate of items"
   ]
  },
  {
   "cell_type": "markdown",
   "metadata": {},
   "source": [
    "## Sammary\n",
    "Spark is a powerful and efficient tool to handle sample on large scale of data. \n",
    "* flexible and powerful functionality\n",
    "* runs super fast even on my laptop\n",
    "* easy to apply to similar datasets(Amazon have dataset of different categories), I only focused on one categoy this time. "
   ]
  }
 ],
 "metadata": {
  "kernelspec": {
   "display_name": "Python 3",
   "language": "python",
   "name": "python3"
  },
  "language_info": {
   "codemirror_mode": {
    "name": "ipython",
    "version": 3
   },
   "file_extension": ".py",
   "mimetype": "text/x-python",
   "name": "python",
   "nbconvert_exporter": "python",
   "pygments_lexer": "ipython3",
   "version": "3.12.2"
  }
 },
 "nbformat": 4,
 "nbformat_minor": 2
}
